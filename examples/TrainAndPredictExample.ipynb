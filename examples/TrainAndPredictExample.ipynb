{
 "cells": [
  {
   "cell_type": "markdown",
   "metadata": {},
   "source": [
    "# SSPINN\n",
    "\n",
    "## Training and Predicting"
   ]
  },
  {
   "cell_type": "markdown",
   "metadata": {},
   "source": [
    "** Note that these examples are not expected to run properly in a jupyter notebook*"
   ]
  },
  {
   "cell_type": "code",
   "execution_count": 5,
   "metadata": {},
   "outputs": [],
   "source": [
    "from sspinn.predict import Predictor as Pred\n",
    "from sspinn.predict import Net\n",
    "from sspinn.nn_translator import nn_translator as nnt\n",
    "from sspinn.visualizer import Visualizer as Vis"
   ]
  },
  {
   "cell_type": "markdown",
   "metadata": {},
   "source": [
    "### Train"
   ]
  },
  {
   "cell_type": "markdown",
   "metadata": {},
   "source": [
    "If you want to, you can set up your own neural network to train using Karas. However, if you just run SSPINN as provided, it will use the neural network that we have set up in the class Net, the details of which will be used as a model to describe how to set up a neural network below."
   ]
  },
  {
   "cell_type": "code",
   "execution_count": null,
   "metadata": {},
   "outputs": [],
   "source": [
    "nn = keras.models.Sequential()"
   ]
  },
  {
   "cell_type": "markdown",
   "metadata": {},
   "source": [
    "The neural net that we have set up has three layers:\n",
    "\n",
    "The first layer is a dense layer with 1000 nodes that uses the exponential linear unit (elu) function, where half of the nodes are dropped."
   ]
  },
  {
   "cell_type": "code",
   "execution_count": null,
   "metadata": {},
   "outputs": [],
   "source": [
    "nn.add(keras.layers.Dense(1000, input_dim=_N_DIMS_IN))\n",
    "nn.add(keras.layers.Activation('elu'))\n",
    "nn.add(keras.layers.Dropout(0.5))"
   ]
  },
  {
   "cell_type": "markdown",
   "metadata": {},
   "source": [
    "The second layer is a dense layer with 3000 nodes that uses a sigmoid function, where 30 percent of the nodes are dropped."
   ]
  },
  {
   "cell_type": "code",
   "execution_count": null,
   "metadata": {},
   "outputs": [],
   "source": [
    "nn.add(keras.layers.Dense(3000))\n",
    "nn.add(keras.layers.Activation('sigmoid'))\n",
    "nn.add(keras.layers.Dropout(0.3))"
   ]
  },
  {
   "cell_type": "markdown",
   "metadata": {},
   "source": [
    "And the third layer, the output layer, has the same number of nodes as number of elements in the output matrix (186,624 for our 432 by 432 matrix) and uses a rectified linear unit (relu) function."
   ]
  },
  {
   "cell_type": "code",
   "execution_count": null,
   "metadata": {},
   "outputs": [],
   "source": [
    "nn.add(keras.layers.Dense(_N_DIMS_OUT))\n",
    "nn.add(keras.layers.Activation('relu'))"
   ]
  },
  {
   "cell_type": "markdown",
   "metadata": {},
   "source": [
    "Finally, your neural network will need to be compiled using the following function:"
   ]
  },
  {
   "cell_type": "code",
   "execution_count": null,
   "metadata": {},
   "outputs": [],
   "source": [
    "nn.compile(optimizer='sgd', loss='mean_squared_error')"
   ]
  },
  {
   "cell_type": "markdown",
   "metadata": {},
   "source": [
    "This is what comprises out `Net` class.\n",
    "\n",
    "Then the `Predictor` class takes the `Net` and trains it using the data files in the data directory provided.\n",
    "\n",
    "If you are using your own neural network you would need to first create an instance of `Predictor` and the `run set_nn(nn)` to set your custom neural network:"
   ]
  },
  {
   "cell_type": "code",
   "execution_count": null,
   "metadata": {},
   "outputs": [],
   "source": [
    "t = Predictor(train=True, data_dir='./path/to/training/data/dir',\n",
    "              net='whereTheTrainedNetWill.h5')\n",
    "t.set_nn(nn)"
   ]
  },
  {
   "cell_type": "markdown",
   "metadata": {},
   "source": [
    "Now you are ready to actually train the neural network, which can be done using the function `train()`, where any additional keyword arguments will be passed to the Karas train function:"
   ]
  },
  {
   "cell_type": "code",
   "execution_count": null,
   "metadata": {},
   "outputs": [],
   "source": [
    "t.train(filepath='../sspinn/nets/yourNetName', epochs=10000,\n",
    "        validation_split=0.2, **kwargs)"
   ]
  },
  {
   "cell_type": "markdown",
   "metadata": {},
   "source": [
    "This will give you a trained neural network, which you can then use to predict the structures of other molecules given C-NMR spectra. \n",
    "\n",
    "** We have found that each epoch takes about 10 minutes to run on our CPU and that each epoch takes to much memory to run on a GPU with 8GB of memory. In addition, the size of our trained neural network is upwards of 4GB*"
   ]
  },
  {
   "cell_type": "markdown",
   "metadata": {},
   "source": [
    "### Predict"
   ]
  },
  {
   "cell_type": "markdown",
   "metadata": {},
   "source": [
    "Now that you have a trained neural network, you can use `Predictor` to get new predictions for C-NMR spectra. Again, we will first make an instance of `Predictor`:"
   ]
  },
  {
   "cell_type": "code",
   "execution_count": null,
   "metadata": {},
   "outputs": [],
   "source": [
    "p = Predictor(train=False, data_dir='./path/to/testing/data/dir',\n",
    "              net='whereTheTrainedNetLives.h5')"
   ]
  },
  {
   "cell_type": "markdown",
   "metadata": {},
   "source": [
    "You need to get correctly formatted input to feed into the neural net, and can do so using `nn_translator(inputFile)` where `nn_input` will be the input to the neural net, `input_matrix` will be `None` since `train=False` and `empirical` will be the dictionary containing the empirical formula of the molecule:"
   ]
  },
  {
   "cell_type": "code",
   "execution_count": null,
   "metadata": {},
   "outputs": [],
   "source": [
    "nn_input, intput_matrix, emperical = nnt(inputfile, train=False)\n",
    "nn_input = np.array(nn_input).reshape((1, 3349))"
   ]
  },
  {
   "cell_type": "markdown",
   "metadata": {},
   "source": [
    "Now, you can get the connectivity matrix of the predicted structure using the following command, which is calling the Keras predict method on the neural network that you have created."
   ]
  },
  {
   "cell_type": "code",
   "execution_count": null,
   "metadata": {},
   "outputs": [],
   "source": [
    "nn_output = p._nn.predict(nn_input)"
   ]
  },
  {
   "cell_type": "markdown",
   "metadata": {},
   "source": [
    "From here you can use the `Visualizer` class to create an image of the predicted structure:"
   ]
  },
  {
   "cell_type": "code",
   "execution_count": null,
   "metadata": {},
   "outputs": [],
   "source": [
    "v = Vis(nn_output, empirical)\n",
    "v.draw2Dstructure()"
   ]
  },
  {
   "cell_type": "code",
   "execution_count": null,
   "metadata": {},
   "outputs": [],
   "source": []
  }
 ],
 "metadata": {
  "kernelspec": {
   "display_name": "Python 3",
   "language": "python",
   "name": "python3"
  },
  "language_info": {
   "codemirror_mode": {
    "name": "ipython",
    "version": 3
   },
   "file_extension": ".py",
   "mimetype": "text/x-python",
   "name": "python",
   "nbconvert_exporter": "python",
   "pygments_lexer": "ipython3",
   "version": "3.6.3"
  }
 },
 "nbformat": 4,
 "nbformat_minor": 2
}
